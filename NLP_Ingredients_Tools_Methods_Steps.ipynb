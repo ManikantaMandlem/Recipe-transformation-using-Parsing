{
  "nbformat": 4,
  "nbformat_minor": 0,
  "metadata": {
    "colab": {
      "name": "NLP Objects.ipynb",
      "provenance": [],
      "collapsed_sections": []
    },
    "kernelspec": {
      "name": "python3",
      "display_name": "Python 3"
    },
    "language_info": {
      "name": "python"
    }
  },
  "cells": [
    {
      "cell_type": "code",
      "metadata": {
        "colab": {
          "base_uri": "https://localhost:8080/"
        },
        "id": "SV4U00DIY3Ws",
        "outputId": "c8f2cb45-c19d-4baf-da89-66583e674528"
      },
      "source": [
        "import requests\n",
        "import string\n",
        "from bs4 import BeautifulSoup\n",
        "import nltk\n",
        "nltk.download('punkt')\n",
        "nltk.download('averaged_perceptron_tagger')\n",
        "from unicodedata import numeric\n",
        "from nltk.stem import WordNetLemmatizer\n",
        "nltk.download('wordnet')\n",
        "import re"
      ],
      "execution_count": 58,
      "outputs": [
        {
          "output_type": "stream",
          "name": "stdout",
          "text": [
            "[nltk_data] Downloading package punkt to /root/nltk_data...\n",
            "[nltk_data]   Package punkt is already up-to-date!\n",
            "[nltk_data] Downloading package averaged_perceptron_tagger to\n",
            "[nltk_data]     /root/nltk_data...\n",
            "[nltk_data]   Package averaged_perceptron_tagger is already up-to-\n",
            "[nltk_data]       date!\n",
            "[nltk_data] Downloading package wordnet to /root/nltk_data...\n",
            "[nltk_data]   Package wordnet is already up-to-date!\n"
          ]
        }
      ]
    },
    {
      "cell_type": "code",
      "metadata": {
        "id": "g5m_JmZFZCje"
      },
      "source": [
        "URL = \"https://www.allrecipes.com/recipe/11679/homemade-mac-and-cheese/\""
      ],
      "execution_count": 59,
      "outputs": []
    },
    {
      "cell_type": "code",
      "metadata": {
        "id": "v0jrxFMLY8gi"
      },
      "source": [
        "class Ingredient:\n",
        "\n",
        "  def __init__(self,fullname=None,main_ingredients=None,quantity_type=None,quantity = None,units=None,descriptor=None,preparation=None,ingredient_type=None):  \n",
        "    self.fullname = fullname\n",
        "    self.main_ingredients = main_ingredients\n",
        "    self.quantity_type = quantity_type\n",
        "    self.quantity = quantity\n",
        "    self.units = units\n",
        "    self.descriptor = descriptor\n",
        "    self.preparation = preparation\n",
        "    self.ingredient_type = ingredient_type\n",
        "\n",
        "  def print_ingredient(self):\n",
        "    print('Full Name: ',self.fullname)\n",
        "    print(\"Main Ingredient: \",self.main_ingredients)\n",
        "    print(\"Quantity Type: \",self.quantity_type)\n",
        "    print(\"Quantity: \",self.quantity)\n",
        "    print(\"Units: \",self.units)\n",
        "    print('Descriptor: ',self.descriptor)\n",
        "    print('Preparation: ',self.preparation,'\\n')"
      ],
      "execution_count": 60,
      "outputs": []
    },
    {
      "cell_type": "code",
      "metadata": {
        "id": "X9AVlWY1d57C"
      },
      "source": [
        "class Step:\n",
        "  def __init__(self,full_step=None,ingredients=None,tools=None,methods = None,times=None):  \n",
        "    self.full_step = full_step\n",
        "    self.ingredients = ingredients\n",
        "    self.tools = tools\n",
        "    self.methods = methods\n",
        "    self.times = times\n",
        "  \n",
        "  def print_steps(self):\n",
        "    print('Full Step: ',self.full_step)\n",
        "    print(\"Ingredients: \",self.ingredients)\n",
        "    print(\"Tools: \",self.tools)\n",
        "    print(\"Methods: \",self.methods)\n",
        "    print(\"Times: \",self.times,'\\n')"
      ],
      "execution_count": 61,
      "outputs": []
    },
    {
      "cell_type": "code",
      "metadata": {
        "id": "mlBvLnC9aeh4"
      },
      "source": [
        "def get_ingredients_tools_methods_steps(URL):\n",
        "  page = requests.get(URL)\n",
        "  soup = BeautifulSoup(page.content, \"html.parser\")\n",
        "  ingredient_parse = soup.find_all(\"input\", class_=\"checkbox-list-input\")\n",
        "  direction_parse = soup.find_all(\"div\", class_=\"paragraph\")\n",
        "  unicode_quantities = []\n",
        "  unicode_units = []\n",
        "  unicode_ingredients = []\n",
        "  unicode_type = []\n",
        "\n",
        "  #----------------------------Parsing Ingredients--------------------------#\n",
        "  for ingredient in ingredient_parse:\n",
        "    val = ingredient.attrs\n",
        "    if u'data-quantity' in val.keys():\n",
        "        unicode_quantities.append(val[u'data-init-quantity'])\n",
        "    if u'data-unit' in val.keys():\n",
        "        unicode_units.append(val[u'data-unit'])\n",
        "    if u'data-ingredient' in val.keys():\n",
        "        unicode_ingredients.append(val[u'data-ingredient'])\n",
        "    if u'data-ingredient' in val.keys():\n",
        "        unicode_type.append(val[u'data-unit_family'])\n",
        "\n",
        "  quantities = unicode_quantities\n",
        "  units = unicode_units\n",
        "  ingredients = unicode_ingredients\n",
        "  quantity_type = unicode_type\n",
        "  descriptor  = [None] * len(ingredients)\n",
        "  preparation = [None] * len(ingredients)\n",
        "  main_ingredients = [0] * len(ingredients)\n",
        "\n",
        "  def preprocess(sent):\n",
        "    sent = nltk.word_tokenize(sent)\n",
        "    sent = nltk.pos_tag(sent)\n",
        "    return sent\n",
        "  \n",
        "  for i in range(len(ingredients)):\n",
        "    tokens = preprocess(ingredients[i])\n",
        "    for token in tokens:\n",
        "      if token[1] == 'JJ':\n",
        "        descriptor[i] = token[0]\n",
        "      elif token[1] in ['VBD','VBN']:\n",
        "        preparation[i] = token[0]\n",
        "      elif token[1] in ['NN','NNS','NNP','NNPS']:\n",
        "        main_ingredients[i] = token[0]\n",
        "\n",
        "  Ingredients = [0] * len(ingredients)\n",
        "  for i in range(len(ingredients)):\n",
        "    new_ingredient = Ingredient(fullname=ingredients[i],main_ingredients=main_ingredients[i],quantity_type=quantity_type[i],quantity = quantities[i],units=units[i],descriptor=descriptor[i],preparation=preparation[i],ingredient_type=None)\n",
        "    Ingredients[i] = new_ingredient\n",
        "  \n",
        "  #----------------------------Ingredients are ready--------------------------#\n",
        "\n",
        "\n",
        "  #----------------------------Half Parsing Directions--------------------------#\n",
        "  directions = []\n",
        "\n",
        "  for step in direction_parse:\n",
        "    step_text = step.text\n",
        "    step_text.encode(\"ascii\", \"ignore\").strip()\n",
        "    directions.append(step_text)\n",
        "\n",
        "  #--------------------------Half Parsed Directions are ready------------#\n",
        "\n",
        "  #----------------------------Parsing Tools--------------------------#\n",
        "  with open(\"/content/drive/MyDrive/NLP2/list_of_tools.txt\") as file:\n",
        "      lines = file.readlines()\n",
        "      list_of_tools = [line.rstrip() for line in lines]\n",
        "\n",
        "  Tools = []\n",
        "  for i in range(len(directions)):\n",
        "    direction_lower = directions[i]\n",
        "    for tool in list_of_tools:\n",
        "      if tool in direction_lower:\n",
        "        Tools.append(tool)\n",
        "\n",
        "  #----------------------------Tools are ready--------------------------#\n",
        "\n",
        "  #----------------------------Parsing Methods--------------------------#\n",
        "  Cooking_Methods = []\n",
        "  with open(\"/content/drive/MyDrive/NLP2/list_of_cooking_methods.txt\") as file:\n",
        "      lines = file.readlines()\n",
        "      list_of_cooking_methods = [line.rstrip() for line in lines]\n",
        "  \n",
        "  lemmatizer = WordNetLemmatizer()\n",
        "  for i in range(len(directions)):\n",
        "    direction_lower = directions[i].lower()\n",
        "    for cooking_method in list_of_cooking_methods:\n",
        "      if cooking_method in direction_lower or lemmatizer.lemmatize(cooking_method) in direction_lower:\n",
        "        Cooking_Methods.append(cooking_method)\n",
        "        \n",
        "  \n",
        "  #----------------------------Methods are ready--------------------------#\n",
        "\n",
        "  #----------------------------Parsing Directions--------------------------#\n",
        "  Steps = []\n",
        "\n",
        "  for i in range(len(directions)):\n",
        "    direction_lower = directions[i].lower()\n",
        "    step_wise_ingredients = []\n",
        "    step_wise_tools = []\n",
        "    step_wise_methods = []\n",
        "    step_wise_times = ''\n",
        "    \n",
        "    for tool in Tools:\n",
        "      if tool in direction_lower and tool not in step_wise_tools:\n",
        "        step_wise_tools.append(tool)\n",
        "    \n",
        "    for method in Cooking_Methods:\n",
        "      if method in direction_lower and method not in step_wise_methods:\n",
        "        step_wise_methods.append(method)\n",
        "    \n",
        "    for ingredient in Ingredients:\n",
        "      if ingredient.main_ingredients in direction_lower and ingredient.fullname not in step_wise_ingredients :\n",
        "        step_wise_ingredients.append(ingredient.fullname)\n",
        "    \n",
        "    time_keywords = 'minutes|seconds|hours|secs|hrs|mins|min'\n",
        "    if (re.search(time_keywords,direction_lower)):\n",
        "      index = re.search(time_keywords,direction_lower).start()\n",
        "      new_str = direction_lower[:index]\n",
        "      step_wise_times+= str(new_str.split()[-1])\n",
        "      unit = re.findall(time_keywords,direction_lower)[-1]\n",
        "      step_wise_times += ' '+str(unit)\n",
        "    new_step = Step (full_step=directions[i],ingredients=step_wise_ingredients,tools=step_wise_tools,methods = step_wise_methods,times=step_wise_times)\n",
        "    Steps.append(new_step)\n",
        "    \n",
        "  return Ingredients, Tools, Cooking_Methods, Steps\n",
        " #----------------------------Directions are ready--------------------------#\n",
        "\n"
      ],
      "execution_count": 62,
      "outputs": []
    },
    {
      "cell_type": "code",
      "metadata": {
        "id": "4RRU44ztcgF2"
      },
      "source": [
        "Ingredients, Tools, Cooking_Methods, Steps = get_ingredients_tools_methods_steps(URL)"
      ],
      "execution_count": 63,
      "outputs": []
    },
    {
      "cell_type": "code",
      "metadata": {
        "colab": {
          "base_uri": "https://localhost:8080/"
        },
        "id": "me2nGM7GcvoG",
        "outputId": "98e5a3e0-cf20-4c79-ca7f-3d1db9697235"
      },
      "source": [
        "for ingredient in Ingredients:\n",
        "  ingredient.print_ingredient()"
      ],
      "execution_count": 64,
      "outputs": [
        {
          "output_type": "stream",
          "name": "stdout",
          "text": [
            "Full Name:  uncooked elbow macaroni\n",
            "Main Ingredient:  macaroni\n",
            "Quantity Type:  weight\n",
            "Quantity:  8\n",
            "Units:  ounces\n",
            "Descriptor:  uncooked\n",
            "Preparation:  None \n",
            "\n",
            "Full Name:  shredded sharp Cheddar cheese\n",
            "Main Ingredient:  cheese\n",
            "Quantity Type:  volumetric\n",
            "Quantity:  2\n",
            "Units:  cups\n",
            "Descriptor:  sharp\n",
            "Preparation:  shredded \n",
            "\n",
            "Full Name:  grated Parmesan cheese\n",
            "Main Ingredient:  cheese\n",
            "Quantity Type:  volumetric\n",
            "Quantity:  0.5\n",
            "Units:  cup\n",
            "Descriptor:  None\n",
            "Preparation:  grated \n",
            "\n",
            "Full Name:  milk\n",
            "Main Ingredient:  milk\n",
            "Quantity Type:  volumetric\n",
            "Quantity:  3\n",
            "Units:  cups\n",
            "Descriptor:  None\n",
            "Preparation:  None \n",
            "\n",
            "Full Name:  butter\n",
            "Main Ingredient:  butter\n",
            "Quantity Type:  volumetric\n",
            "Quantity:  0.25\n",
            "Units:  cup\n",
            "Descriptor:  None\n",
            "Preparation:  None \n",
            "\n",
            "Full Name:  all-purpose flour\n",
            "Main Ingredient:  flour\n",
            "Quantity Type:  volumetric\n",
            "Quantity:  2.5\n",
            "Units:  tablespoons\n",
            "Descriptor:  all-purpose\n",
            "Preparation:  None \n",
            "\n",
            "Full Name:  butter\n",
            "Main Ingredient:  butter\n",
            "Quantity Type:  volumetric\n",
            "Quantity:  2\n",
            "Units:  tablespoons\n",
            "Descriptor:  None\n",
            "Preparation:  None \n",
            "\n",
            "Full Name:  bread crumbs\n",
            "Main Ingredient:  crumbs\n",
            "Quantity Type:  volumetric\n",
            "Quantity:  0.5\n",
            "Units:  cup\n",
            "Descriptor:  None\n",
            "Preparation:  None \n",
            "\n",
            "Full Name:  paprika\n",
            "Main Ingredient:  paprika\n",
            "Quantity Type:  each\n",
            "Quantity:  1\n",
            "Units:  pinch\n",
            "Descriptor:  None\n",
            "Preparation:  None \n",
            "\n"
          ]
        }
      ]
    },
    {
      "cell_type": "code",
      "metadata": {
        "colab": {
          "base_uri": "https://localhost:8080/"
        },
        "id": "ry3KVsdkpItc",
        "outputId": "63d17287-8236-4889-8373-ca757a7ac92f"
      },
      "source": [
        "for tool in Tools:\n",
        "  print(tool)"
      ],
      "execution_count": 65,
      "outputs": [
        {
          "output_type": "stream",
          "name": "stdout",
          "text": [
            "saucepan\n",
            "pan\n",
            "casserole\n",
            "skillet\n"
          ]
        }
      ]
    },
    {
      "cell_type": "code",
      "metadata": {
        "colab": {
          "base_uri": "https://localhost:8080/"
        },
        "id": "EQ2uMzu3pa_j",
        "outputId": "5c43beee-5c14-4c02-a1e1-24d364b6ed22"
      },
      "source": [
        "for method in Cooking_Methods:\n",
        "  print(method)"
      ],
      "execution_count": 66,
      "outputs": [
        {
          "output_type": "stream",
          "name": "stdout",
          "text": [
            "roux\n",
            "brown\n",
            "bake\n"
          ]
        }
      ]
    },
    {
      "cell_type": "code",
      "metadata": {
        "colab": {
          "base_uri": "https://localhost:8080/"
        },
        "id": "VWD-jTckpiq0",
        "outputId": "a21347f9-446b-4d85-8675-77bce0998bc3"
      },
      "source": [
        "for step in Steps:\n",
        "  step.print_steps()"
      ],
      "execution_count": 67,
      "outputs": [
        {
          "output_type": "stream",
          "name": "stdout",
          "text": [
            "Full Step:  Cook macaroni according to the package directions. Drain. \n",
            "Ingredients:  ['uncooked elbow macaroni']\n",
            "Tools:  []\n",
            "Methods:  []\n",
            "Times:   \n",
            "\n",
            "Full Step:  In a saucepan, melt butter or margarine over medium heat. Stir in enough flour to make a roux. Add milk to roux slowly, stirring constantly. Stir in cheeses, and cook over low heat until cheese is melted and the sauce is a little thick. Put macaroni in large casserole dish, and pour sauce over macaroni. Stir well. \n",
            "Ingredients:  ['uncooked elbow macaroni', 'shredded sharp Cheddar cheese', 'grated Parmesan cheese', 'milk', 'butter', 'all-purpose flour']\n",
            "Tools:  ['saucepan', 'pan', 'casserole']\n",
            "Methods:  ['roux']\n",
            "Times:   \n",
            "\n",
            "Full Step:  Melt butter or margarine in a skillet over medium heat. Add breadcrumbs and brown. Spread over the macaroni and cheese to cover. Sprinkle with a little paprika. \n",
            "Ingredients:  ['uncooked elbow macaroni', 'shredded sharp Cheddar cheese', 'grated Parmesan cheese', 'butter', 'bread crumbs', 'paprika']\n",
            "Tools:  ['skillet']\n",
            "Methods:  ['brown']\n",
            "Times:   \n",
            "\n",
            "Full Step:  Bake at 350 degrees F (175 degrees C) for 30 minutes. Serve. \n",
            "Ingredients:  []\n",
            "Tools:  []\n",
            "Methods:  ['bake']\n",
            "Times:  30 minutes \n",
            "\n"
          ]
        }
      ]
    },
    {
      "cell_type": "code",
      "metadata": {
        "colab": {
          "base_uri": "https://localhost:8080/",
          "height": 35
        },
        "id": "MJ6bnb7FpnB0",
        "outputId": "8496277d-3d67-47fd-f9bf-d32c76d7d229"
      },
      "source": [
        "lemmatizer = WordNetLemmatizer()\n",
        "lemmatizer.lemmatize('baking')"
      ],
      "execution_count": 68,
      "outputs": [
        {
          "output_type": "execute_result",
          "data": {
            "application/vnd.google.colaboratory.intrinsic+json": {
              "type": "string"
            },
            "text/plain": [
              "'baking'"
            ]
          },
          "metadata": {},
          "execution_count": 68
        }
      ]
    },
    {
      "cell_type": "code",
      "metadata": {
        "id": "ILPw91GBo6Bg"
      },
      "source": [
        ""
      ],
      "execution_count": null,
      "outputs": []
    }
  ]
}