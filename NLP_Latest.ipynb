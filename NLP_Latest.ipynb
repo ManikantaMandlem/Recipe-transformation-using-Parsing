{
  "nbformat": 4,
  "nbformat_minor": 0,
  "metadata": {
    "colab": {
      "name": "NLP Latest.ipynb",
      "provenance": [],
      "collapsed_sections": []
    },
    "kernelspec": {
      "name": "python3",
      "display_name": "Python 3"
    },
    "language_info": {
      "name": "python"
    }
  },
  "cells": [
    {
      "cell_type": "code",
      "metadata": {
        "id": "SV4U00DIY3Ws",
        "colab": {
          "base_uri": "https://localhost:8080/"
        },
        "outputId": "df025d32-5e17-497c-c324-97d15c9debd1"
      },
      "source": [
        "import requests\n",
        "import string\n",
        "from bs4 import BeautifulSoup\n",
        "import nltk\n",
        "nltk.download('punkt')\n",
        "nltk.download('averaged_perceptron_tagger')\n",
        "from unicodedata import numeric\n",
        "from nltk.stem import WordNetLemmatizer\n",
        "nltk.download('wordnet')\n",
        "import re\n",
        "import random\n",
        "#https://stackoverflow.com/questions/28639677/capitalize-the-first-letter-after-a-punctuation/28639714"
      ],
      "execution_count": 2,
      "outputs": [
        {
          "output_type": "stream",
          "name": "stdout",
          "text": [
            "[nltk_data] Downloading package punkt to /root/nltk_data...\n",
            "[nltk_data]   Unzipping tokenizers/punkt.zip.\n",
            "[nltk_data] Downloading package averaged_perceptron_tagger to\n",
            "[nltk_data]     /root/nltk_data...\n",
            "[nltk_data]   Unzipping taggers/averaged_perceptron_tagger.zip.\n",
            "[nltk_data] Downloading package wordnet to /root/nltk_data...\n",
            "[nltk_data]   Unzipping corpora/wordnet.zip.\n"
          ]
        }
      ]
    },
    {
      "cell_type": "code",
      "metadata": {
        "id": "g5m_JmZFZCje"
      },
      "source": [
        "URL = \"https://www.allrecipes.com/recipe/11679/homemade-mac-and-cheese/\""
      ],
      "execution_count": 3,
      "outputs": []
    },
    {
      "cell_type": "code",
      "metadata": {
        "id": "v0jrxFMLY8gi"
      },
      "source": [
        "class Ingredient:\n",
        "\n",
        "  def __init__(self,fullname=None,main_ingredients=None,quantity_type=None,quantity = None,units=None,descriptor=None,preparation=None,ingredient_type=None):  \n",
        "    self.fullname = fullname\n",
        "    self.main_ingredients = main_ingredients\n",
        "    self.quantity_type = quantity_type\n",
        "    self.quantity = quantity\n",
        "    self.units = units\n",
        "    self.descriptor = descriptor\n",
        "    self.preparation = preparation\n",
        "    self.ingredient_type = ingredient_type\n",
        "\n",
        "  def print_ingredient(self):\n",
        "    print('Full Name: ',self.fullname)\n",
        "    print(\"Main Ingredient: \",self.main_ingredients)\n",
        "    print(\"Quantity Type: \",self.quantity_type)\n",
        "    print(\"Quantity: \",self.quantity)\n",
        "    print(\"Units: \",self.units)\n",
        "    print('Descriptor: ',self.descriptor)\n",
        "    print('Preparation: ',self.preparation,'\\n')"
      ],
      "execution_count": 4,
      "outputs": []
    },
    {
      "cell_type": "code",
      "metadata": {
        "id": "X9AVlWY1d57C"
      },
      "source": [
        "class Step:\n",
        "  def __init__(self,full_step=None,ingredients=None,tools=None,methods = None,times=None):  \n",
        "    self.full_step = full_step\n",
        "    self.ingredients = ingredients\n",
        "    self.tools = tools\n",
        "    self.methods = methods\n",
        "    self.times = times\n",
        "  \n",
        "  def print_steps(self):\n",
        "    print('Full Step: ',self.full_step)\n",
        "    print(\"Ingredients: \",self.ingredients)\n",
        "    print(\"Tools: \",self.tools)\n",
        "    print(\"Methods: \",self.methods)\n",
        "    print(\"Times: \",self.times,'\\n')"
      ],
      "execution_count": 5,
      "outputs": []
    },
    {
      "cell_type": "code",
      "metadata": {
        "id": "mlBvLnC9aeh4"
      },
      "source": [
        "def get_ingredients_tools_methods_steps(URL):\n",
        "  page = requests.get(URL)\n",
        "  soup = BeautifulSoup(page.content, \"html.parser\")\n",
        "  ingredient_parse = soup.find_all(\"input\", class_=\"checkbox-list-input\")\n",
        "  direction_parse = soup.find_all(\"div\", class_=\"paragraph\")\n",
        "  unicode_quantities = []\n",
        "  unicode_units = []\n",
        "  unicode_ingredients = []\n",
        "  unicode_type = []\n",
        "\n",
        "  #----------------------------Parsing Ingredients--------------------------#\n",
        "  for ingredient in ingredient_parse:\n",
        "    val = ingredient.attrs\n",
        "    if u'data-quantity' in val.keys():\n",
        "        unicode_quantities.append(val[u'data-init-quantity'])\n",
        "    if u'data-unit' in val.keys():\n",
        "        unicode_units.append(val[u'data-unit'])\n",
        "    if u'data-ingredient' in val.keys():\n",
        "        unicode_ingredients.append(val[u'data-ingredient'])\n",
        "    if u'data-ingredient' in val.keys():\n",
        "        unicode_type.append(val[u'data-unit_family'])\n",
        "\n",
        "  quantities = unicode_quantities\n",
        "  units = unicode_units\n",
        "  ingredients = unicode_ingredients\n",
        "  quantity_type = unicode_type\n",
        "  descriptor  = [None] * len(ingredients)\n",
        "  preparation = [None] * len(ingredients)\n",
        "  main_ingredients = [''] * len(ingredients)\n",
        "\n",
        "  def preprocess(sent):\n",
        "    sent = nltk.word_tokenize(sent)\n",
        "    sent = nltk.pos_tag(sent)\n",
        "    return sent\n",
        "  \n",
        "  for i in range(len(ingredients)):\n",
        "    tokens = preprocess(ingredients[i])\n",
        "    for token in tokens:\n",
        "      if token[1] == 'JJ':\n",
        "        descriptor[i] = token[0]\n",
        "      elif token[1] in ['VBD','VBN']:\n",
        "        preparation[i] = token[0]\n",
        "      elif token[1] in ['NN','NNS','NNP','NNPS']:\n",
        "        main_ingredients[i] += token[0]+' '\n",
        "    main_ingredients[i] = main_ingredients[i].rstrip()\n",
        "\n",
        "  Ingredients = [0] * len(ingredients)\n",
        "  for i in range(len(ingredients)):\n",
        "    new_ingredient = Ingredient(fullname=ingredients[i],main_ingredients=main_ingredients[i],quantity_type=quantity_type[i],quantity = quantities[i],units=units[i],descriptor=descriptor[i],preparation=preparation[i],ingredient_type=None)\n",
        "    Ingredients[i] = new_ingredient\n",
        "  \n",
        "  #----------------------------Ingredients are ready--------------------------#\n",
        "\n",
        "\n",
        "  #----------------------------Half Parsing Directions--------------------------#\n",
        "  directions = []\n",
        "\n",
        "  for step in direction_parse:\n",
        "    step_text = step.text\n",
        "    step_text.encode(\"ascii\", \"ignore\").strip()\n",
        "    directions.append(step_text)\n",
        "\n",
        "  #--------------------------Half Parsed Directions are ready------------#\n",
        "\n",
        "  #----------------------------Parsing Tools--------------------------#\n",
        "  with open(\"/content/drive/MyDrive/NLP2/list_of_tools.txt\") as file:\n",
        "      lines = file.readlines()\n",
        "      list_of_tools = [line.rstrip() for line in lines]\n",
        "\n",
        "  Tools = []\n",
        "  for i in range(len(directions)):\n",
        "    direction_lower = directions[i]\n",
        "    for tool in list_of_tools:\n",
        "      if tool in direction_lower:\n",
        "        Tools.append(tool)\n",
        "\n",
        "  #----------------------------Tools are ready--------------------------#\n",
        "\n",
        "  #----------------------------Parsing Methods--------------------------#\n",
        "  Cooking_Methods = []\n",
        "  with open(\"/content/drive/MyDrive/NLP2/list_of_cooking_methods.txt\") as file:\n",
        "      lines = file.readlines()\n",
        "      list_of_cooking_methods = [line.rstrip() for line in lines]\n",
        "  \n",
        "  lemmatizer = WordNetLemmatizer()\n",
        "  for i in range(len(directions)):\n",
        "    direction_lower = directions[i].lower()\n",
        "    for cooking_method in list_of_cooking_methods:\n",
        "      if cooking_method in direction_lower or lemmatizer.lemmatize(cooking_method) in direction_lower:\n",
        "        Cooking_Methods.append(cooking_method)\n",
        "        \n",
        "  \n",
        "  #----------------------------Methods are ready--------------------------#\n",
        "\n",
        "  #----------------------------Parsing Directions--------------------------#\n",
        "  Steps = []\n",
        "\n",
        "  for i in range(len(directions)):\n",
        "    direction_lower = directions[i].lower()\n",
        "    step_wise_ingredients = []\n",
        "    step_wise_tools = []\n",
        "    step_wise_methods = []\n",
        "    step_wise_times = ''\n",
        "    \n",
        "    for tool in Tools:\n",
        "      if tool in direction_lower and tool not in step_wise_tools:\n",
        "        step_wise_tools.append(tool)\n",
        "    \n",
        "    for method in Cooking_Methods:\n",
        "      if method in direction_lower and method not in step_wise_methods:\n",
        "        step_wise_methods.append(method)\n",
        "    \n",
        "    for ingredient in Ingredients:\n",
        "      if ingredient.main_ingredients in direction_lower and ingredient.fullname not in step_wise_ingredients :\n",
        "        step_wise_ingredients.append(ingredient.fullname)\n",
        "    \n",
        "    time_keywords = 'minutes|seconds|hours|secs|hrs|mins|min'\n",
        "    if (re.search(time_keywords,direction_lower)):\n",
        "      index = re.search(time_keywords,direction_lower).start()\n",
        "      new_str = direction_lower[:index]\n",
        "      step_wise_times+= str(new_str.split()[-1])\n",
        "      unit = re.findall(time_keywords,direction_lower)[-1]\n",
        "      step_wise_times += ' '+str(unit)\n",
        "    new_step = Step (full_step=directions[i],ingredients=step_wise_ingredients,tools=step_wise_tools,methods = step_wise_methods,times=step_wise_times)\n",
        "    Steps.append(new_step)\n",
        "    \n",
        "  return Ingredients, Tools, Cooking_Methods, Steps\n",
        " #----------------------------Directions are ready--------------------------#\n",
        "\n"
      ],
      "execution_count": 6,
      "outputs": []
    },
    {
      "cell_type": "code",
      "metadata": {
        "id": "4RRU44ztcgF2"
      },
      "source": [
        "#Test intial data collection\n",
        "Ingredients, Tools, Cooking_Methods, Steps = get_ingredients_tools_methods_steps(URL)"
      ],
      "execution_count": 7,
      "outputs": []
    },
    {
      "cell_type": "code",
      "metadata": {
        "id": "me2nGM7GcvoG",
        "colab": {
          "base_uri": "https://localhost:8080/"
        },
        "outputId": "254204cb-d59a-4bc9-a401-e95e21b394f9"
      },
      "source": [
        "for ingredient in Ingredients:\n",
        "  ingredient.print_ingredient()"
      ],
      "execution_count": 8,
      "outputs": [
        {
          "output_type": "stream",
          "name": "stdout",
          "text": [
            "Full Name:  uncooked elbow macaroni\n",
            "Main Ingredient:  elbow macaroni\n",
            "Quantity Type:  weight\n",
            "Quantity:  8\n",
            "Units:  ounces\n",
            "Descriptor:  uncooked\n",
            "Preparation:  None \n",
            "\n",
            "Full Name:  shredded sharp Cheddar cheese\n",
            "Main Ingredient:  Cheddar cheese\n",
            "Quantity Type:  volumetric\n",
            "Quantity:  2\n",
            "Units:  cups\n",
            "Descriptor:  sharp\n",
            "Preparation:  shredded \n",
            "\n",
            "Full Name:  grated Parmesan cheese\n",
            "Main Ingredient:  Parmesan cheese\n",
            "Quantity Type:  volumetric\n",
            "Quantity:  0.5\n",
            "Units:  cup\n",
            "Descriptor:  None\n",
            "Preparation:  grated \n",
            "\n",
            "Full Name:  milk\n",
            "Main Ingredient:  milk\n",
            "Quantity Type:  volumetric\n",
            "Quantity:  3\n",
            "Units:  cups\n",
            "Descriptor:  None\n",
            "Preparation:  None \n",
            "\n",
            "Full Name:  butter\n",
            "Main Ingredient:  butter\n",
            "Quantity Type:  volumetric\n",
            "Quantity:  0.25\n",
            "Units:  cup\n",
            "Descriptor:  None\n",
            "Preparation:  None \n",
            "\n",
            "Full Name:  all-purpose flour\n",
            "Main Ingredient:  flour\n",
            "Quantity Type:  volumetric\n",
            "Quantity:  2.5\n",
            "Units:  tablespoons\n",
            "Descriptor:  all-purpose\n",
            "Preparation:  None \n",
            "\n",
            "Full Name:  butter\n",
            "Main Ingredient:  butter\n",
            "Quantity Type:  volumetric\n",
            "Quantity:  2\n",
            "Units:  tablespoons\n",
            "Descriptor:  None\n",
            "Preparation:  None \n",
            "\n",
            "Full Name:  bread crumbs\n",
            "Main Ingredient:  bread crumbs\n",
            "Quantity Type:  volumetric\n",
            "Quantity:  0.5\n",
            "Units:  cup\n",
            "Descriptor:  None\n",
            "Preparation:  None \n",
            "\n",
            "Full Name:  paprika\n",
            "Main Ingredient:  paprika\n",
            "Quantity Type:  each\n",
            "Quantity:  1\n",
            "Units:  pinch\n",
            "Descriptor:  None\n",
            "Preparation:  None \n",
            "\n"
          ]
        }
      ]
    },
    {
      "cell_type": "code",
      "metadata": {
        "id": "ry3KVsdkpItc",
        "colab": {
          "base_uri": "https://localhost:8080/"
        },
        "outputId": "64fe828f-57e3-403d-d89c-ca96ef0a98a0"
      },
      "source": [
        "for tool in Tools:\n",
        "  print(tool)"
      ],
      "execution_count": 9,
      "outputs": [
        {
          "output_type": "stream",
          "name": "stdout",
          "text": [
            "saucepan\n",
            "pan\n",
            "casserole\n",
            "skillet\n"
          ]
        }
      ]
    },
    {
      "cell_type": "code",
      "metadata": {
        "id": "EQ2uMzu3pa_j",
        "colab": {
          "base_uri": "https://localhost:8080/"
        },
        "outputId": "6fe0df57-9859-44d3-d4e1-8522cbbb67b7"
      },
      "source": [
        "for method in Cooking_Methods:\n",
        "  print(method)"
      ],
      "execution_count": 10,
      "outputs": [
        {
          "output_type": "stream",
          "name": "stdout",
          "text": [
            "roux\n",
            "brown\n",
            "bake\n"
          ]
        }
      ]
    },
    {
      "cell_type": "code",
      "metadata": {
        "id": "VWD-jTckpiq0",
        "colab": {
          "base_uri": "https://localhost:8080/"
        },
        "outputId": "107b8913-76da-41d1-914c-9ea1a5b3993e"
      },
      "source": [
        "for step in Steps:\n",
        "  step.print_steps()"
      ],
      "execution_count": 11,
      "outputs": [
        {
          "output_type": "stream",
          "name": "stdout",
          "text": [
            "Full Step:  Cook macaroni according to the package directions. Drain. \n",
            "Ingredients:  []\n",
            "Tools:  []\n",
            "Methods:  []\n",
            "Times:   \n",
            "\n",
            "Full Step:  In a saucepan, melt butter or margarine over medium heat. Stir in enough flour to make a roux. Add milk to roux slowly, stirring constantly. Stir in cheeses, and cook over low heat until cheese is melted and the sauce is a little thick. Put macaroni in large casserole dish, and pour sauce over macaroni. Stir well. \n",
            "Ingredients:  ['milk', 'butter', 'all-purpose flour']\n",
            "Tools:  ['saucepan', 'pan', 'casserole']\n",
            "Methods:  ['roux']\n",
            "Times:   \n",
            "\n",
            "Full Step:  Melt butter or margarine in a skillet over medium heat. Add breadcrumbs and brown. Spread over the macaroni and cheese to cover. Sprinkle with a little paprika. \n",
            "Ingredients:  ['butter', 'paprika']\n",
            "Tools:  ['skillet']\n",
            "Methods:  ['brown']\n",
            "Times:   \n",
            "\n",
            "Full Step:  Bake at 350 degrees F (175 degrees C) for 30 minutes. Serve. \n",
            "Ingredients:  []\n",
            "Tools:  []\n",
            "Methods:  ['bake']\n",
            "Times:  30 minutes \n",
            "\n"
          ]
        }
      ]
    },
    {
      "cell_type": "code",
      "metadata": {
        "id": "-QKAESBaH5iS"
      },
      "source": [
        "#This code coverts any '5 pounds of diced lean chicken into a parsed form'\n",
        "#Needed for when we are substituing an old ingredient with a new ingredient\n",
        "def transform_ingredient(full_ingredient):\n",
        "  def preprocess(sent):\n",
        "    sent = nltk.word_tokenize(sent)\n",
        "    sent = nltk.pos_tag(sent)\n",
        "    return sent\n",
        "\n",
        "  full_ingredient = full_ingredient.lower()\n",
        "  transformed_ingredient = Ingredient()\n",
        "  transformed_ingredient.fullname = full_ingredient\n",
        "  \n",
        "  with open(\"/content/drive/MyDrive/NLP2/list_of_measurement_units.txt\") as file:\n",
        "      lines = file.readlines()\n",
        "      list_of_measurement_units = [line.rstrip() for line in lines]\n",
        "\n",
        "  tokens = preprocess(full_ingredient)\n",
        "  quantity_type = ''\n",
        "  quantity = ''\n",
        "  descriptor  = ''\n",
        "  preparation = ''\n",
        "  main_ingredients = ''\n",
        "  units = ''\n",
        "      \n",
        "  for token in tokens:\n",
        "    if token[0] in list_of_measurement_units:\n",
        "      units = token[0]\n",
        "    elif token[1] == 'CD':\n",
        "      quantity = token[0]    \n",
        "    elif token[1] == 'JJ':\n",
        "      descriptor = token[0]\n",
        "    elif token[1] in ['VBD','VBN']:\n",
        "      preparation = token[0]\n",
        "    elif token[1] in ['NN','NNS','NNP','NNPS']:\n",
        "      main_ingredients += token[0]+' '\n",
        "  main_ingredients = main_ingredients.rstrip()\n",
        "  \n",
        "  transformed_ingredient.main_ingredients = main_ingredients\n",
        "\n",
        "  if units in ['cups','cup','tablespoons','tablespoon','teaspoons','teaspoon','gallons','gallon']:\n",
        "    transformed_ingredient.quantity_type = 'volumetric'\n",
        "  elif units in ['pounds']:\n",
        "    transformed_ingredient.quantity_type = 'weight'\n",
        "  elif units in ['pinch']:\n",
        "    transformed_ingredient.quantity_type = 'pinch'\n",
        "  \n",
        "  transformed_ingredient.quantity = quantity\n",
        "  transformed_ingredient.units = units\n",
        "  transformed_ingredient.descriptor = descriptor\n",
        "  transformed_ingredient.preparation = preparation\n",
        "  return transformed_ingredient"
      ],
      "execution_count": 12,
      "outputs": []
    },
    {
      "cell_type": "code",
      "metadata": {
        "id": "cb1carVpuDc6"
      },
      "source": [
        "#Substitutes any ingredient everywhere in the recipe and the ingredient\n",
        "#old_ingredient should just be 'beef' , 'lemon' or something like that\n",
        "#new_ingredient should be an Ingredient object\n",
        "#transform_ingredient will transform any ingredient like '5 pounds lean chicken' into this form\n",
        "def substitute_ingredient_fn(Ingredients, Tools, Cooking_Methods, Steps,old_ingredient, substitute_ingredient):\n",
        "  new_Ingredients = [0] * len(Ingredients)\n",
        "  new_Tools = [0] * len (Tools)\n",
        "  new_Cooking_Methods = [0] * len(Cooking_Methods)\n",
        "  new_Steps = [0] * len(Steps)\n",
        "  \n",
        "  for i in range(len(Ingredients)):\n",
        "    if old_ingredient.lower() in Ingredients[i].fullname or old_ingredient.lower() in Ingredients[i].main_ingredients:\n",
        "      new_Ingredients[i] = substitute_ingredient\n",
        "    else:\n",
        "      new_Ingredients[i] =  Ingredients[i]\n",
        "\n",
        "  new_Tools = Tools\n",
        "  new_Cooking_Methods = Cooking_Methods\n",
        "  \n",
        "  for i in range(len(Steps)):\n",
        "    if old_ingredient.lower() not in Steps[i].full_step.lower() and old_ingredient.lower() not in Steps[i].full_step.lower():\n",
        "      new_Steps[i] = Steps[i]\n",
        "    \n",
        "    else:\n",
        "      temporary_step = Step(full_step=Steps[i].full_step,ingredients=Steps[i].ingredients,tools=Steps[i].tools,methods = Steps[i].methods,times=Steps[i].times)\n",
        "      for j in range(len(temporary_step.ingredients)):\n",
        "        if old_ingredient.lower() in temporary_step.ingredients[j]:\n",
        "          temporary_step.ingredients[j] = substitute_ingredient.fullname\n",
        "      \n",
        "\n",
        "      if old_ingredient.lower() in temporary_step.full_step.lower():\n",
        "        temporary_step.full_step = temporary_step.full_step.lower().replace(old_ingredient.lower(),substitute_ingredient.main_ingredients)\n",
        "        temporary_step.full_step = '. '.join(map(lambda s: s.strip().capitalize(), temporary_step.full_step.split('.')))\n",
        "        new_Steps[i] = temporary_step\n",
        "\n",
        "\n",
        "\n",
        "  return new_Ingredients, new_Tools, new_Cooking_Methods, new_Steps"
      ],
      "execution_count": 13,
      "outputs": []
    },
    {
      "cell_type": "code",
      "metadata": {
        "id": "ILPw91GBo6Bg"
      },
      "source": [
        "#An example substituting milk with spahgetti squash\n",
        "Ingredients, Tools, Cooking_Methods, Steps = get_ingredients_tools_methods_steps(URL)\n",
        "old_ingredient = 'milk'\n",
        "substitute_ingredient = transform_ingredient('5 Pounds Large Seeded Spaghetti Squash')\n",
        "Sub_Ingredients, Sub_Tools, Sub_Cooking_Methods, Sub_Steps = substitute_ingredient_fn(Ingredients, Tools, Cooking_Methods, Steps,old_ingredient, substitute_ingredient)"
      ],
      "execution_count": 14,
      "outputs": []
    },
    {
      "cell_type": "code",
      "metadata": {
        "id": "5YL1KXXHmNEa",
        "colab": {
          "base_uri": "https://localhost:8080/"
        },
        "outputId": "051be006-c66a-42b1-c82d-2f3d8a94a0e6"
      },
      "source": [
        "for ingredient in Sub_Ingredients:\n",
        "  ingredient.print_ingredient()"
      ],
      "execution_count": 15,
      "outputs": [
        {
          "output_type": "stream",
          "name": "stdout",
          "text": [
            "Full Name:  uncooked elbow macaroni\n",
            "Main Ingredient:  elbow macaroni\n",
            "Quantity Type:  weight\n",
            "Quantity:  8\n",
            "Units:  ounces\n",
            "Descriptor:  uncooked\n",
            "Preparation:  None \n",
            "\n",
            "Full Name:  shredded sharp Cheddar cheese\n",
            "Main Ingredient:  Cheddar cheese\n",
            "Quantity Type:  volumetric\n",
            "Quantity:  2\n",
            "Units:  cups\n",
            "Descriptor:  sharp\n",
            "Preparation:  shredded \n",
            "\n",
            "Full Name:  grated Parmesan cheese\n",
            "Main Ingredient:  Parmesan cheese\n",
            "Quantity Type:  volumetric\n",
            "Quantity:  0.5\n",
            "Units:  cup\n",
            "Descriptor:  None\n",
            "Preparation:  grated \n",
            "\n",
            "Full Name:  5 pounds large seeded spaghetti squash\n",
            "Main Ingredient:  spaghetti squash\n",
            "Quantity Type:  weight\n",
            "Quantity:  5\n",
            "Units:  pounds\n",
            "Descriptor:  large\n",
            "Preparation:  seeded \n",
            "\n",
            "Full Name:  butter\n",
            "Main Ingredient:  butter\n",
            "Quantity Type:  volumetric\n",
            "Quantity:  0.25\n",
            "Units:  cup\n",
            "Descriptor:  None\n",
            "Preparation:  None \n",
            "\n",
            "Full Name:  all-purpose flour\n",
            "Main Ingredient:  flour\n",
            "Quantity Type:  volumetric\n",
            "Quantity:  2.5\n",
            "Units:  tablespoons\n",
            "Descriptor:  all-purpose\n",
            "Preparation:  None \n",
            "\n",
            "Full Name:  butter\n",
            "Main Ingredient:  butter\n",
            "Quantity Type:  volumetric\n",
            "Quantity:  2\n",
            "Units:  tablespoons\n",
            "Descriptor:  None\n",
            "Preparation:  None \n",
            "\n",
            "Full Name:  bread crumbs\n",
            "Main Ingredient:  bread crumbs\n",
            "Quantity Type:  volumetric\n",
            "Quantity:  0.5\n",
            "Units:  cup\n",
            "Descriptor:  None\n",
            "Preparation:  None \n",
            "\n",
            "Full Name:  paprika\n",
            "Main Ingredient:  paprika\n",
            "Quantity Type:  each\n",
            "Quantity:  1\n",
            "Units:  pinch\n",
            "Descriptor:  None\n",
            "Preparation:  None \n",
            "\n"
          ]
        }
      ]
    },
    {
      "cell_type": "code",
      "metadata": {
        "id": "DGFfPkMU6tQX",
        "colab": {
          "base_uri": "https://localhost:8080/"
        },
        "outputId": "8f02a350-3f05-464c-8e2e-d105c56b4265"
      },
      "source": [
        "for step in Sub_Steps:\n",
        "  step.print_steps()"
      ],
      "execution_count": 16,
      "outputs": [
        {
          "output_type": "stream",
          "name": "stdout",
          "text": [
            "Full Step:  Cook macaroni according to the package directions. Drain. \n",
            "Ingredients:  []\n",
            "Tools:  []\n",
            "Methods:  []\n",
            "Times:   \n",
            "\n",
            "Full Step:  In a saucepan, melt butter or margarine over medium heat. Stir in enough flour to make a roux. Add spaghetti squash to roux slowly, stirring constantly. Stir in cheeses, and cook over low heat until cheese is melted and the sauce is a little thick. Put macaroni in large casserole dish, and pour sauce over macaroni. Stir well. \n",
            "Ingredients:  ['5 pounds large seeded spaghetti squash', 'butter', 'all-purpose flour']\n",
            "Tools:  ['saucepan', 'pan', 'casserole']\n",
            "Methods:  ['roux']\n",
            "Times:   \n",
            "\n",
            "Full Step:  Melt butter or margarine in a skillet over medium heat. Add breadcrumbs and brown. Spread over the macaroni and cheese to cover. Sprinkle with a little paprika. \n",
            "Ingredients:  ['butter', 'paprika']\n",
            "Tools:  ['skillet']\n",
            "Methods:  ['brown']\n",
            "Times:   \n",
            "\n",
            "Full Step:  Bake at 350 degrees F (175 degrees C) for 30 minutes. Serve. \n",
            "Ingredients:  []\n",
            "Tools:  []\n",
            "Methods:  ['bake']\n",
            "Times:  30 minutes \n",
            "\n"
          ]
        }
      ]
    },
    {
      "cell_type": "code",
      "metadata": {
        "id": "qRDBsGvfNlL9"
      },
      "source": [
        "#uses the subsitute ingredient helper function to transform the recipie into veg. randomly selects a veg alternative\n",
        "def to_veg(Ingredients, Tools, Cooking_Methods, Steps):\n",
        "  with open(\"/content/drive/MyDrive/NLP2/list_of_non_veg_items.txt\") as file:\n",
        "    lines = file.readlines()\n",
        "    list_of_non_veg_items = [line.rstrip() for line in lines]\n",
        "\n",
        "  with open(\"/content/drive/MyDrive/NLP2/list_of_veg_substitutes.txt\") as file:\n",
        "    lines = file.readlines()\n",
        "    list_of_veg_substitutes = [line.rstrip() for line in lines]\n",
        "  \n",
        "  old_ingredient = None\n",
        "  for i in range(len(Ingredients)):\n",
        "    for non_veg_item in list_of_non_veg_items:\n",
        "      if non_veg_item in Ingredients[i].fullname.lower() or non_veg_item in Ingredients[i].main_ingredients.lower():\n",
        "       old_ingredient = non_veg_item\n",
        "\n",
        "  substitute_ingredient = transform_ingredient(random.choice(list_of_veg_substitutes))\n",
        "  if (old_ingredient):\n",
        "    return substitute_ingredient_fn(Ingredients, Tools, Cooking_Methods, Steps,old_ingredient, substitute_ingredient)\n",
        "  else:\n",
        "    return Ingredients, Tools, Cooking_Methods, Steps"
      ],
      "execution_count": 17,
      "outputs": []
    },
    {
      "cell_type": "code",
      "metadata": {
        "id": "VAkigykHChNe"
      },
      "source": [
        "#testing to veg function\n",
        "URL_nonveg = 'https://www.allrecipes.com/recipe/258947/mushroom-beef-burgers/'\n",
        "Ingredients, Tools, Cooking_Methods, Steps = get_ingredients_tools_methods_steps(URL_nonveg)\n",
        "Sub_Ingredients, Sub_Tools, Sub_Cooking_Methods, Sub_Steps = to_veg(Ingredients, Tools, Cooking_Methods, Steps)"
      ],
      "execution_count": 18,
      "outputs": []
    },
    {
      "cell_type": "code",
      "metadata": {
        "id": "0kmeEGnvNmsE",
        "colab": {
          "base_uri": "https://localhost:8080/"
        },
        "outputId": "735e7613-2afc-4758-bfef-5bf449aa9068"
      },
      "source": [
        "for ingredient in Sub_Ingredients:\n",
        "  ingredient.print_ingredient()"
      ],
      "execution_count": 19,
      "outputs": [
        {
          "output_type": "stream",
          "name": "stdout",
          "text": [
            "Full Name:  8 ounce sliced tempeh\n",
            "Main Ingredient:  tempeh\n",
            "Quantity Type:  None\n",
            "Quantity:  8\n",
            "Units:  ounce\n",
            "Descriptor:  \n",
            "Preparation:  sliced \n",
            "\n",
            "Full Name:  mushrooms, chopped, or more to taste\n",
            "Main Ingredient:  mushrooms\n",
            "Quantity Type:  each\n",
            "Quantity:  1\n",
            "Units:  (8 ounce) package\n",
            "Descriptor:  None\n",
            "Preparation:  chopped \n",
            "\n",
            "Full Name:  onion, chopped\n",
            "Main Ingredient:  onion\n",
            "Quantity Type:  \n",
            "Quantity:  1\n",
            "Units:  \n",
            "Descriptor:  None\n",
            "Preparation:  chopped \n",
            "\n",
            "Full Name:  garlic, minced\n",
            "Main Ingredient:  garlic\n",
            "Quantity Type:  each\n",
            "Quantity:  3\n",
            "Units:  cloves\n",
            "Descriptor:  None\n",
            "Preparation:  minced \n",
            "\n",
            "Full Name:  Italian seasoning\n",
            "Main Ingredient:  seasoning\n",
            "Quantity Type:  volumetric\n",
            "Quantity:  1\n",
            "Units:  teaspoon\n",
            "Descriptor:  Italian\n",
            "Preparation:  None \n",
            "\n",
            "Full Name:  salt\n",
            "Main Ingredient:  salt\n",
            "Quantity Type:  volumetric\n",
            "Quantity:  1\n",
            "Units:  teaspoon\n",
            "Descriptor:  None\n",
            "Preparation:  None \n",
            "\n",
            "Full Name:  ground black pepper\n",
            "Main Ingredient:  ground pepper\n",
            "Quantity Type:  volumetric\n",
            "Quantity:  0.5\n",
            "Units:  teaspoon\n",
            "Descriptor:  black\n",
            "Preparation:  None \n",
            "\n",
            "Full Name:  cooking spray\n",
            "Main Ingredient:  cooking spray\n",
            "Quantity Type:  \n",
            "Quantity:  \n",
            "Units:  \n",
            "Descriptor:  None\n",
            "Preparation:  None \n",
            "\n"
          ]
        }
      ]
    },
    {
      "cell_type": "code",
      "metadata": {
        "id": "Ytqfd-zYXvEg",
        "colab": {
          "base_uri": "https://localhost:8080/"
        },
        "outputId": "8703b880-2a20-455d-d564-379294516019"
      },
      "source": [
        "for step in Sub_Steps:\n",
        "  step.print_steps()"
      ],
      "execution_count": 20,
      "outputs": [
        {
          "output_type": "stream",
          "name": "stdout",
          "text": [
            "Full Step:  Remove ground tempeh from the refrigerator; let stand at room temperature for 20 minutes. \n",
            "Ingredients:  ['8 ounce sliced tempeh']\n",
            "Tools:  []\n",
            "Methods:  ['temper']\n",
            "Times:  20 minutes \n",
            "\n",
            "Full Step:  Mix mushrooms, onion, garlic, italian seasoning, salt, and pepper together in a large bowl. Mix in tempeh. Form tempeh mixture into 1/2-inch-thick patties. \n",
            "Ingredients:  ['mushrooms, chopped, or more to taste', 'onion, chopped', 'garlic, minced', 'Italian seasoning', 'salt']\n",
            "Tools:  ['bowl']\n",
            "Methods:  ['season']\n",
            "Times:   \n",
            "\n",
            "Full Step:  Grease an indoor grill pan with cooking spray. Cook patties in batches until browned and no longer pink in the center, about 10 minutes per side. \n",
            "Ingredients:  ['cooking spray']\n",
            "Tools:  ['pan']\n",
            "Methods:  ['brown', 'grill']\n",
            "Times:  10 minutes \n",
            "\n",
            "Full Step:  Can substitute the seasoning used with your favorite seasoning.\n",
            "Ingredients:  ['Italian seasoning']\n",
            "Tools:  []\n",
            "Methods:  ['season']\n",
            "Times:   \n",
            "\n",
            "Full Step:  Please note that an outdoor grill is used in the magazine version of the recipe, and therefore, cooking time differs.\n",
            "Ingredients:  []\n",
            "Tools:  []\n",
            "Methods:  ['grill']\n",
            "Times:   \n",
            "\n"
          ]
        }
      ]
    },
    {
      "cell_type": "code",
      "metadata": {
        "id": "XcS0sTOgapc4"
      },
      "source": [
        "#divide multiply ingredients by ratio\n",
        "def ratio(Ingredients, Tools, Cooking_Methods, Steps,ratio_num):\n",
        "  for i in range(len(Ingredients)):\n",
        "    if Ingredients[i].quantity.isnumeric():\n",
        "      Ingredients[i].quantity=float(Ingredients[i].quantity)*ratio_num\n",
        "  else:\n",
        "    return Ingredients, Tools, Cooking_Methods, Steps"
      ],
      "execution_count": 21,
      "outputs": []
    },
    {
      "cell_type": "code",
      "metadata": {
        "id": "97oKNq4ev94t"
      },
      "source": [
        "URL_nonveg = 'https://www.allrecipes.com/recipe/258947/mushroom-beef-burgers/'\n",
        "Ingredients, Tools, Cooking_Methods, Steps = get_ingredients_tools_methods_steps(URL_nonveg)\n",
        "\n",
        "Sub_Ingredients, Sub_Tools, Sub_Cooking_Methods, Sub_Steps = ratio(Ingredients, Tools, Cooking_Methods, Steps,2)"
      ],
      "execution_count": 22,
      "outputs": []
    },
    {
      "cell_type": "code",
      "metadata": {
        "id": "8MAkY9ibwCv9"
      },
      "source": [
        ""
      ],
      "execution_count": 22,
      "outputs": []
    }
  ]
}