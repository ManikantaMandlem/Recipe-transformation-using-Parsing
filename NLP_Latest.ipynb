{
  "nbformat": 4,
  "nbformat_minor": 0,
  "metadata": {
    "colab": {
      "name": "NLP Latest.ipynb",
      "provenance": [],
      "collapsed_sections": []
    },
    "kernelspec": {
      "name": "python3",
      "display_name": "Python 3"
    },
    "language_info": {
      "name": "python"
    }
  },
  "cells": [
    {
      "cell_type": "code",
      "metadata": {
        "id": "SV4U00DIY3Ws"
      },
      "source": [
        "import requests\n",
        "import string\n",
        "from bs4 import BeautifulSoup\n",
        "import nltk\n",
        "nltk.download('punkt')\n",
        "nltk.download('averaged_perceptron_tagger')\n",
        "from unicodedata import numeric\n",
        "from nltk.stem import WordNetLemmatizer\n",
        "nltk.download('wordnet')\n",
        "import re\n",
        "import random\n",
        "#https://stackoverflow.com/questions/28639677/capitalize-the-first-letter-after-a-punctuation/28639714"
      ],
      "execution_count": null,
      "outputs": []
    },
    {
      "cell_type": "code",
      "metadata": {
        "id": "g5m_JmZFZCje"
      },
      "source": [
        "URL = \"https://www.allrecipes.com/recipe/11679/homemade-mac-and-cheese/\""
      ],
      "execution_count": null,
      "outputs": []
    },
    {
      "cell_type": "code",
      "metadata": {
        "id": "v0jrxFMLY8gi"
      },
      "source": [
        "class Ingredient:\n",
        "\n",
        "  def __init__(self,fullname=None,main_ingredients=None,quantity_type=None,quantity = None,units=None,descriptor=None,preparation=None,ingredient_type=None):  \n",
        "    self.fullname = fullname\n",
        "    self.main_ingredients = main_ingredients\n",
        "    self.quantity_type = quantity_type\n",
        "    self.quantity = quantity\n",
        "    self.units = units\n",
        "    self.descriptor = descriptor\n",
        "    self.preparation = preparation\n",
        "    self.ingredient_type = ingredient_type\n",
        "\n",
        "  def print_ingredient(self):\n",
        "    print('Full Name: ',self.fullname)\n",
        "    print(\"Main Ingredient: \",self.main_ingredients)\n",
        "    print(\"Quantity Type: \",self.quantity_type)\n",
        "    print(\"Quantity: \",self.quantity)\n",
        "    print(\"Units: \",self.units)\n",
        "    print('Descriptor: ',self.descriptor)\n",
        "    print('Preparation: ',self.preparation,'\\n')"
      ],
      "execution_count": null,
      "outputs": []
    },
    {
      "cell_type": "code",
      "metadata": {
        "id": "X9AVlWY1d57C"
      },
      "source": [
        "class Step:\n",
        "  def __init__(self,full_step=None,ingredients=None,tools=None,methods = None,times=None):  \n",
        "    self.full_step = full_step\n",
        "    self.ingredients = ingredients\n",
        "    self.tools = tools\n",
        "    self.methods = methods\n",
        "    self.times = times\n",
        "  \n",
        "  def print_steps(self):\n",
        "    print('Full Step: ',self.full_step)\n",
        "    print(\"Ingredients: \",self.ingredients)\n",
        "    print(\"Tools: \",self.tools)\n",
        "    print(\"Methods: \",self.methods)\n",
        "    print(\"Times: \",self.times,'\\n')"
      ],
      "execution_count": null,
      "outputs": []
    },
    {
      "cell_type": "code",
      "metadata": {
        "id": "mlBvLnC9aeh4"
      },
      "source": [
        "def get_ingredients_tools_methods_steps(URL):\n",
        "  page = requests.get(URL)\n",
        "  soup = BeautifulSoup(page.content, \"html.parser\")\n",
        "  ingredient_parse = soup.find_all(\"input\", class_=\"checkbox-list-input\")\n",
        "  direction_parse = soup.find_all(\"div\", class_=\"paragraph\")\n",
        "  unicode_quantities = []\n",
        "  unicode_units = []\n",
        "  unicode_ingredients = []\n",
        "  unicode_type = []\n",
        "\n",
        "  #----------------------------Parsing Ingredients--------------------------#\n",
        "  for ingredient in ingredient_parse:\n",
        "    val = ingredient.attrs\n",
        "    if u'data-quantity' in val.keys():\n",
        "        unicode_quantities.append(val[u'data-init-quantity'])\n",
        "    if u'data-unit' in val.keys():\n",
        "        unicode_units.append(val[u'data-unit'])\n",
        "    if u'data-ingredient' in val.keys():\n",
        "        unicode_ingredients.append(val[u'data-ingredient'])\n",
        "    if u'data-ingredient' in val.keys():\n",
        "        unicode_type.append(val[u'data-unit_family'])\n",
        "\n",
        "  quantities = unicode_quantities\n",
        "  units = unicode_units\n",
        "  ingredients = unicode_ingredients\n",
        "  quantity_type = unicode_type\n",
        "  descriptor  = [None] * len(ingredients)\n",
        "  preparation = [None] * len(ingredients)\n",
        "  main_ingredients = [''] * len(ingredients)\n",
        "\n",
        "  def preprocess(sent):\n",
        "    sent = nltk.word_tokenize(sent)\n",
        "    sent = nltk.pos_tag(sent)\n",
        "    return sent\n",
        "  \n",
        "  for i in range(len(ingredients)):\n",
        "    tokens = preprocess(ingredients[i])\n",
        "    for token in tokens:\n",
        "      if token[1] == 'JJ':\n",
        "        descriptor[i] = token[0]\n",
        "      elif token[1] in ['VBD','VBN']:\n",
        "        preparation[i] = token[0]\n",
        "      elif token[1] in ['NN','NNS','NNP','NNPS']:\n",
        "        main_ingredients[i] += token[0]+' '\n",
        "    main_ingredients[i] = main_ingredients[i].rstrip()\n",
        "\n",
        "  Ingredients = [0] * len(ingredients)\n",
        "  for i in range(len(ingredients)):\n",
        "    new_ingredient = Ingredient(fullname=ingredients[i],main_ingredients=main_ingredients[i],quantity_type=quantity_type[i],quantity = quantities[i],units=units[i],descriptor=descriptor[i],preparation=preparation[i],ingredient_type=None)\n",
        "    Ingredients[i] = new_ingredient\n",
        "  \n",
        "  #----------------------------Ingredients are ready--------------------------#\n",
        "\n",
        "\n",
        "  #----------------------------Half Parsing Directions--------------------------#\n",
        "  directions = []\n",
        "\n",
        "  for step in direction_parse:\n",
        "    step_text = step.text\n",
        "    step_text.encode(\"ascii\", \"ignore\").strip()\n",
        "    directions.append(step_text)\n",
        "\n",
        "  #--------------------------Half Parsed Directions are ready------------#\n",
        "\n",
        "  #----------------------------Parsing Tools--------------------------#\n",
        "  with open(\"/content/drive/MyDrive/NLP2/list_of_tools.txt\") as file:\n",
        "      lines = file.readlines()\n",
        "      list_of_tools = [line.rstrip() for line in lines]\n",
        "\n",
        "  Tools = []\n",
        "  for i in range(len(directions)):\n",
        "    direction_lower = directions[i]\n",
        "    for tool in list_of_tools:\n",
        "      if tool in direction_lower:\n",
        "        Tools.append(tool)\n",
        "\n",
        "  #----------------------------Tools are ready--------------------------#\n",
        "\n",
        "  #----------------------------Parsing Methods--------------------------#\n",
        "  Cooking_Methods = []\n",
        "  with open(\"/content/drive/MyDrive/NLP2/list_of_cooking_methods.txt\") as file:\n",
        "      lines = file.readlines()\n",
        "      list_of_cooking_methods = [line.rstrip() for line in lines]\n",
        "  \n",
        "  lemmatizer = WordNetLemmatizer()\n",
        "  for i in range(len(directions)):\n",
        "    direction_lower = directions[i].lower()\n",
        "    for cooking_method in list_of_cooking_methods:\n",
        "      if cooking_method in direction_lower or lemmatizer.lemmatize(cooking_method) in direction_lower:\n",
        "        Cooking_Methods.append(cooking_method)\n",
        "        \n",
        "  \n",
        "  #----------------------------Methods are ready--------------------------#\n",
        "\n",
        "  #----------------------------Parsing Directions--------------------------#\n",
        "  Steps = []\n",
        "\n",
        "  for i in range(len(directions)):\n",
        "    direction_lower = directions[i].lower()\n",
        "    step_wise_ingredients = []\n",
        "    step_wise_tools = []\n",
        "    step_wise_methods = []\n",
        "    step_wise_times = ''\n",
        "    \n",
        "    for tool in Tools:\n",
        "      if tool in direction_lower and tool not in step_wise_tools:\n",
        "        step_wise_tools.append(tool)\n",
        "    \n",
        "    for method in Cooking_Methods:\n",
        "      if method in direction_lower and method not in step_wise_methods:\n",
        "        step_wise_methods.append(method)\n",
        "    \n",
        "    for ingredient in Ingredients:\n",
        "      if ingredient.main_ingredients in direction_lower and ingredient.fullname not in step_wise_ingredients :\n",
        "        step_wise_ingredients.append(ingredient.fullname)\n",
        "    \n",
        "    time_keywords = 'minutes|seconds|hours|secs|hrs|mins|min'\n",
        "    if (re.search(time_keywords,direction_lower)):\n",
        "      index = re.search(time_keywords,direction_lower).start()\n",
        "      new_str = direction_lower[:index]\n",
        "      step_wise_times+= str(new_str.split()[-1])\n",
        "      unit = re.findall(time_keywords,direction_lower)[-1]\n",
        "      step_wise_times += ' '+str(unit)\n",
        "    new_step = Step (full_step=directions[i],ingredients=step_wise_ingredients,tools=step_wise_tools,methods = step_wise_methods,times=step_wise_times)\n",
        "    Steps.append(new_step)\n",
        "    \n",
        "  return Ingredients, Tools, Cooking_Methods, Steps\n",
        " #----------------------------Directions are ready--------------------------#\n",
        "\n"
      ],
      "execution_count": null,
      "outputs": []
    },
    {
      "cell_type": "code",
      "metadata": {
        "id": "4RRU44ztcgF2"
      },
      "source": [
        "#Test intial data collection\n",
        "Ingredients, Tools, Cooking_Methods, Steps = get_ingredients_tools_methods_steps(URL)"
      ],
      "execution_count": null,
      "outputs": []
    },
    {
      "cell_type": "code",
      "metadata": {
        "id": "me2nGM7GcvoG"
      },
      "source": [
        "for ingredient in Ingredients:\n",
        "  ingredient.print_ingredient()"
      ],
      "execution_count": null,
      "outputs": []
    },
    {
      "cell_type": "code",
      "metadata": {
        "id": "ry3KVsdkpItc"
      },
      "source": [
        "for tool in Tools:\n",
        "  print(tool)"
      ],
      "execution_count": null,
      "outputs": []
    },
    {
      "cell_type": "code",
      "metadata": {
        "id": "EQ2uMzu3pa_j"
      },
      "source": [
        "for method in Cooking_Methods:\n",
        "  print(method)"
      ],
      "execution_count": null,
      "outputs": []
    },
    {
      "cell_type": "code",
      "metadata": {
        "id": "VWD-jTckpiq0"
      },
      "source": [
        "for step in Steps:\n",
        "  step.print_steps()"
      ],
      "execution_count": null,
      "outputs": []
    },
    {
      "cell_type": "code",
      "metadata": {
        "id": "-QKAESBaH5iS"
      },
      "source": [
        "#This code coverts any '5 pounds of diced lean chicken into a parsed form'\n",
        "#Needed for when we are substituing an old ingredient with a new ingredient\n",
        "def transform_ingredient(full_ingredient):\n",
        "  def preprocess(sent):\n",
        "    sent = nltk.word_tokenize(sent)\n",
        "    sent = nltk.pos_tag(sent)\n",
        "    return sent\n",
        "\n",
        "  full_ingredient = full_ingredient.lower()\n",
        "  transformed_ingredient = Ingredient()\n",
        "  transformed_ingredient.fullname = full_ingredient\n",
        "  \n",
        "  with open(\"/content/drive/MyDrive/NLP2/list_of_measurement_units.txt\") as file:\n",
        "      lines = file.readlines()\n",
        "      list_of_measurement_units = [line.rstrip() for line in lines]\n",
        "\n",
        "  tokens = preprocess(full_ingredient)\n",
        "  quantity_type = ''\n",
        "  quantity = ''\n",
        "  descriptor  = ''\n",
        "  preparation = ''\n",
        "  main_ingredients = ''\n",
        "  units = ''\n",
        "      \n",
        "  for token in tokens:\n",
        "    if token[0] in list_of_measurement_units:\n",
        "      units = token[0]\n",
        "    elif token[1] == 'CD':\n",
        "      quantity = token[0]    \n",
        "    elif token[1] == 'JJ':\n",
        "      descriptor = token[0]\n",
        "    elif token[1] in ['VBD','VBN']:\n",
        "      preparation = token[0]\n",
        "    elif token[1] in ['NN','NNS','NNP','NNPS']:\n",
        "      main_ingredients += token[0]+' '\n",
        "  main_ingredients = main_ingredients.rstrip()\n",
        "  \n",
        "  transformed_ingredient.main_ingredients = main_ingredients\n",
        "\n",
        "  if units in ['cups','cup','tablespoons','tablespoon','teaspoons','teaspoon','gallons','gallon']:\n",
        "    transformed_ingredient.quantity_type = 'volumetric'\n",
        "  elif units in ['pounds']:\n",
        "    transformed_ingredient.quantity_type = 'weight'\n",
        "  elif units in ['pinch']:\n",
        "    transformed_ingredient.quantity_type = 'pinch'\n",
        "  \n",
        "  transformed_ingredient.quantity = quantity\n",
        "  transformed_ingredient.units = units\n",
        "  transformed_ingredient.descriptor = descriptor\n",
        "  transformed_ingredient.preparation = preparation\n",
        "  return transformed_ingredient"
      ],
      "execution_count": null,
      "outputs": []
    },
    {
      "cell_type": "code",
      "metadata": {
        "id": "cb1carVpuDc6"
      },
      "source": [
        "#Substitutes any ingredient everywhere in the recipe and the ingredient\n",
        "#old_ingredient should just be 'beef' , 'lemon' or something like that\n",
        "#new_ingredient should be an Ingredient object\n",
        "#transform_ingredient will transform any ingredient like '5 pounds lean chicken' into this form\n",
        "def substitute_ingredient_fn(Ingredients, Tools, Cooking_Methods, Steps,old_ingredient, substitute_ingredient):\n",
        "  new_Ingredients = [0] * len(Ingredients)\n",
        "  new_Tools = [0] * len (Tools)\n",
        "  new_Cooking_Methods = [0] * len(Cooking_Methods)\n",
        "  new_Steps = [0] * len(Steps)\n",
        "  \n",
        "  for i in range(len(Ingredients)):\n",
        "    if old_ingredient.lower() in Ingredients[i].fullname or old_ingredient.lower() in Ingredients[i].main_ingredients:\n",
        "      new_Ingredients[i] = substitute_ingredient\n",
        "    else:\n",
        "      new_Ingredients[i] =  Ingredients[i]\n",
        "\n",
        "  new_Tools = Tools\n",
        "  new_Cooking_Methods = Cooking_Methods\n",
        "  \n",
        "  for i in range(len(Steps)):\n",
        "    if old_ingredient.lower() not in Steps[i].full_step.lower() and old_ingredient.lower() not in Steps[i].full_step.lower():\n",
        "      new_Steps[i] = Steps[i]\n",
        "    \n",
        "    else:\n",
        "      temporary_step = Step(full_step=Steps[i].full_step,ingredients=Steps[i].ingredients,tools=Steps[i].tools,methods = Steps[i].methods,times=Steps[i].times)\n",
        "      for j in range(len(temporary_step.ingredients)):\n",
        "        if old_ingredient.lower() in temporary_step.ingredients[j]:\n",
        "          temporary_step.ingredients[j] = substitute_ingredient.fullname\n",
        "      \n",
        "\n",
        "      if old_ingredient.lower() in temporary_step.full_step.lower():\n",
        "        temporary_step.full_step = temporary_step.full_step.lower().replace(old_ingredient.lower(),substitute_ingredient.main_ingredients)\n",
        "        temporary_step.full_step = '. '.join(map(lambda s: s.strip().capitalize(), temporary_step.full_step.split('.')))\n",
        "        new_Steps[i] = temporary_step\n",
        "\n",
        "\n",
        "\n",
        "  return new_Ingredients, new_Tools, new_Cooking_Methods, new_Steps"
      ],
      "execution_count": null,
      "outputs": []
    },
    {
      "cell_type": "code",
      "metadata": {
        "id": "ILPw91GBo6Bg",
        "colab": {
          "base_uri": "https://localhost:8080/",
          "height": 253
        },
        "outputId": "86121c55-7e13-4b40-bf80-108ee888e749"
      },
      "source": [
        "#An example substituting milk with spahgetti squash\n",
        "Ingredients, Tools, Cooking_Methods, Steps = get_ingredients_tools_methods_steps(URL)\n",
        "old_ingredient = 'milk'\n",
        "substitute_ingredient = transform_ingredient('5 Pounds Large Seeded Spaghetti Squash')\n",
        "Sub_Ingredients, Sub_Tools, Sub_Cooking_Methods, Sub_Steps = substitute_ingredient_fn(Ingredients, Tools, Cooking_Methods, Steps,old_ingredient, substitute_ingredient)"
      ],
      "execution_count": 1,
      "outputs": [
        {
          "output_type": "error",
          "ename": "NameError",
          "evalue": "ignored",
          "traceback": [
            "\u001b[0;31m---------------------------------------------------------------------------\u001b[0m",
            "\u001b[0;31mNameError\u001b[0m                                 Traceback (most recent call last)",
            "\u001b[0;32m<ipython-input-1-f7479ac03bb8>\u001b[0m in \u001b[0;36m<module>\u001b[0;34m()\u001b[0m\n\u001b[1;32m      1\u001b[0m \u001b[0;31m#An example substituting milk with spahgetti squash\u001b[0m\u001b[0;34m\u001b[0m\u001b[0;34m\u001b[0m\u001b[0;34m\u001b[0m\u001b[0m\n\u001b[0;32m----> 2\u001b[0;31m \u001b[0mIngredients\u001b[0m\u001b[0;34m,\u001b[0m \u001b[0mTools\u001b[0m\u001b[0;34m,\u001b[0m \u001b[0mCooking_Methods\u001b[0m\u001b[0;34m,\u001b[0m \u001b[0mSteps\u001b[0m \u001b[0;34m=\u001b[0m \u001b[0mget_ingredients_tools_methods_steps\u001b[0m\u001b[0;34m(\u001b[0m\u001b[0mURL\u001b[0m\u001b[0;34m)\u001b[0m\u001b[0;34m\u001b[0m\u001b[0;34m\u001b[0m\u001b[0m\n\u001b[0m\u001b[1;32m      3\u001b[0m \u001b[0mold_ingredient\u001b[0m \u001b[0;34m=\u001b[0m \u001b[0;34m'milk'\u001b[0m\u001b[0;34m\u001b[0m\u001b[0;34m\u001b[0m\u001b[0m\n\u001b[1;32m      4\u001b[0m \u001b[0msubstitute_ingredient\u001b[0m \u001b[0;34m=\u001b[0m \u001b[0mtransform_ingredient\u001b[0m\u001b[0;34m(\u001b[0m\u001b[0;34m'5 Pounds Large Seeded Spaghetti Squash'\u001b[0m\u001b[0;34m)\u001b[0m\u001b[0;34m\u001b[0m\u001b[0;34m\u001b[0m\u001b[0m\n\u001b[1;32m      5\u001b[0m \u001b[0mSub_Ingredients\u001b[0m\u001b[0;34m,\u001b[0m \u001b[0mSub_Tools\u001b[0m\u001b[0;34m,\u001b[0m \u001b[0mSub_Cooking_Methods\u001b[0m\u001b[0;34m,\u001b[0m \u001b[0mSub_Steps\u001b[0m \u001b[0;34m=\u001b[0m \u001b[0msubstitute_ingredient_fn\u001b[0m\u001b[0;34m(\u001b[0m\u001b[0mIngredients\u001b[0m\u001b[0;34m,\u001b[0m \u001b[0mTools\u001b[0m\u001b[0;34m,\u001b[0m \u001b[0mCooking_Methods\u001b[0m\u001b[0;34m,\u001b[0m \u001b[0mSteps\u001b[0m\u001b[0;34m,\u001b[0m\u001b[0mold_ingredient\u001b[0m\u001b[0;34m,\u001b[0m \u001b[0msubstitute_ingredient\u001b[0m\u001b[0;34m)\u001b[0m\u001b[0;34m\u001b[0m\u001b[0;34m\u001b[0m\u001b[0m\n",
            "\u001b[0;31mNameError\u001b[0m: name 'get_ingredients_tools_methods_steps' is not defined"
          ]
        }
      ]
    },
    {
      "cell_type": "code",
      "metadata": {
        "id": "5YL1KXXHmNEa"
      },
      "source": [
        "for ingredient in Sub_Ingredients:\n",
        "  ingredient.print_ingredient()"
      ],
      "execution_count": null,
      "outputs": []
    },
    {
      "cell_type": "code",
      "metadata": {
        "id": "DGFfPkMU6tQX"
      },
      "source": [
        "for step in Sub_Steps:\n",
        "  step.print_steps()"
      ],
      "execution_count": null,
      "outputs": []
    },
    {
      "cell_type": "code",
      "metadata": {
        "id": "qRDBsGvfNlL9"
      },
      "source": [
        "#uses the subsitute ingredient helper function to transform the recipie into veg. randomly selects a veg alternative\n",
        "def to_veg(Ingredients, Tools, Cooking_Methods, Steps):\n",
        "  with open(\"/content/drive/MyDrive/NLP2/list_of_non_veg_items.txt\") as file:\n",
        "    lines = file.readlines()\n",
        "    list_of_non_veg_items = [line.rstrip() for line in lines]\n",
        "\n",
        "  with open(\"/content/drive/MyDrive/NLP2/list_of_veg_substitutes.txt\") as file:\n",
        "    lines = file.readlines()\n",
        "    list_of_veg_substitutes = [line.rstrip() for line in lines]\n",
        "  \n",
        "  old_ingredient = None\n",
        "  for i in range(len(Ingredients)):\n",
        "    for non_veg_item in list_of_non_veg_items:\n",
        "      if non_veg_item in Ingredients[i].fullname.lower() or non_veg_item in Ingredients[i].main_ingredients.lower():\n",
        "       old_ingredient = non_veg_item\n",
        "\n",
        "  substitute_ingredient = transform_ingredient(random.choice(list_of_veg_substitutes))\n",
        "  if (old_ingredient):\n",
        "    return substitute_ingredient_fn(Ingredients, Tools, Cooking_Methods, Steps,old_ingredient, substitute_ingredient)\n",
        "  else:\n",
        "    return Ingredients, Tools, Cooking_Methods, Steps"
      ],
      "execution_count": null,
      "outputs": []
    },
    {
      "cell_type": "code",
      "metadata": {
        "id": "VAkigykHChNe"
      },
      "source": [
        "#testing to veg function\n",
        "URL_nonveg = 'https://www.allrecipes.com/recipe/258947/mushroom-beef-burgers/'\n",
        "Ingredients, Tools, Cooking_Methods, Steps = get_ingredients_tools_methods_steps(URL_nonveg)\n",
        "Sub_Ingredients, Sub_Tools, Sub_Cooking_Methods, Sub_Steps = to_veg(Ingredients, Tools, Cooking_Methods, Steps)"
      ],
      "execution_count": null,
      "outputs": []
    },
    {
      "cell_type": "code",
      "metadata": {
        "id": "0kmeEGnvNmsE"
      },
      "source": [
        "for ingredient in Sub_Ingredients:\n",
        "  ingredient.print_ingredient()"
      ],
      "execution_count": null,
      "outputs": []
    },
    {
      "cell_type": "code",
      "metadata": {
        "id": "Ytqfd-zYXvEg"
      },
      "source": [
        "for step in Sub_Steps:\n",
        "  step.print_steps()"
      ],
      "execution_count": null,
      "outputs": []
    },
    {
      "cell_type": "code",
      "metadata": {
        "id": "XcS0sTOgapc4"
      },
      "source": [
        "def ratio(Ingredients, Tools, Cooking_Methods, Steps,ratio_num):\n",
        "  for i in range(len(Ingredients)):\n",
        "    if Ingredients[i].quantity.isnumeric():\n",
        "      Ingredients[i].quantity=float(Ingredients[i].quantity)*ratio_num\n",
        "  else:\n",
        "    return Ingredients, Tools, Cooking_Methods, Steps"
      ],
      "execution_count": null,
      "outputs": []
    },
    {
      "cell_type": "code",
      "metadata": {
        "id": "97oKNq4ev94t"
      },
      "source": [
        "URL_nonveg = 'https://www.allrecipes.com/recipe/258947/mushroom-beef-burgers/'\n",
        "Ingredients, Tools, Cooking_Methods, Steps = get_ingredients_tools_methods_steps(URL_nonveg)\n",
        "\n",
        "Sub_Ingredients, Sub_Tools, Sub_Cooking_Methods, Sub_Steps = ratio(Ingredients, Tools, Cooking_Methods, Steps,2)"
      ],
      "execution_count": null,
      "outputs": []
    },
    {
      "cell_type": "code",
      "metadata": {
        "id": "8MAkY9ibwCv9"
      },
      "source": [
        ""
      ],
      "execution_count": null,
      "outputs": []
    }
  ]
}